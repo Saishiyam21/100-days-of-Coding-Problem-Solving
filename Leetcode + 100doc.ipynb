{
 "cells": [
  {
   "cell_type": "markdown",
   "id": "f59bdc31",
   "metadata": {},
   "source": [
    "# Binary search (Iterative)"
   ]
  },
  {
   "cell_type": "markdown",
   "id": "145018ef",
   "metadata": {},
   "source": [
    "A binary search is an algorithm to find a particular element in the list. Suppose we have a list of thousand elements, and we need to get an index` position of a particular element. We can find the element's index position very fast using the binary search algorithm."
   ]
  },
  {
   "cell_type": "code",
   "execution_count": 7,
   "id": "5db46161",
   "metadata": {},
   "outputs": [
    {
     "name": "stdout",
     "output_type": "stream",
     "text": [
      " Element is present at index 7\n"
     ]
    }
   ],
   "source": [
    "def binary_search(list1, n):\n",
    "    low = 0\n",
    "    high = len(list1)-1\n",
    "    mid = 0\n",
    "    \n",
    "    while low <= high:\n",
    "        mid = (low + high)//2\n",
    "        \n",
    "        if list1[mid] < n:\n",
    "            low = mid + 1\n",
    "        \n",
    "        elif list1[mid] > n:\n",
    "            high = mid - 1\n",
    "            \n",
    "        else:\n",
    "            return mid\n",
    "        \n",
    "    return -1\n",
    "\n",
    "list1 = [3,5,7,9,11,14,16,21]\n",
    "n = 21\n",
    "\n",
    "result = binary_search(list1, n)\n",
    "\n",
    "if(result != -1):\n",
    "    print(\" Element is present at index\", result)\n",
    "else:\n",
    "    print(\"Element is not present in this list\")\n",
    "                "
   ]
  },
  {
   "cell_type": "markdown",
   "id": "8996d61b",
   "metadata": {},
   "source": [
    "# Linear search"
   ]
  },
  {
   "cell_type": "markdown",
   "id": "892b4a2d",
   "metadata": {},
   "source": [
    "Algorithm\n",
    "\n",
    "Start from the leftmost element of given arr[] and one by one compare element x with each element of arr[]\n",
    "\n",
    "If x matches with any of the element, return the index value.\n",
    "\n",
    "If x doesn’t match with any of elements in arr[] , return -1 or element not found."
   ]
  },
  {
   "cell_type": "code",
   "execution_count": 1,
   "id": "bafdc3e0",
   "metadata": {},
   "outputs": [
    {
     "name": "stdout",
     "output_type": "stream",
     "text": [
      "The element is present at the index:  3\n"
     ]
    }
   ],
   "source": [
    "def linear_search(arr, x):\n",
    "    for i in range(len(arr)):\n",
    "        if arr[i] == x:\n",
    "            return i \n",
    "    return -1\n",
    "\n",
    "arr = [3,4,5,6,7]\n",
    "x = 6\n",
    "ans = linear_search(arr,x)\n",
    "\n",
    "if(ans!=-1):\n",
    "    print(\"The element is present at the index: \", ans )\n",
    "else:\n",
    "    print(\"Not present in list\")"
   ]
  },
  {
   "cell_type": "markdown",
   "id": "502a799c",
   "metadata": {},
   "source": [
    "# Bubble Sort in Python (temp variable)"
   ]
  },
  {
   "cell_type": "markdown",
   "id": "b078eede",
   "metadata": {},
   "source": [
    "The bubble sort uses a straightforward logic that works by repeating swapping the adjacent elements if they are not in the right order."
   ]
  },
  {
   "cell_type": "code",
   "execution_count": 2,
   "id": "2cf8b9e7",
   "metadata": {},
   "outputs": [
    {
     "name": "stdout",
     "output_type": "stream",
     "text": [
      "The sorted list is:  [1, 3, 5, 21, 77]\n"
     ]
    }
   ],
   "source": [
    "def bubble_sort(list1):\n",
    "    for i in range(0,len(list1)-1):\n",
    "        for j in range(len(list1)-1):\n",
    "            if(list1[j]>list1[j+1]):\n",
    "                temp = list1[j]\n",
    "                list1[j] = list1[j+1]\n",
    "                list1[j+1] = temp\n",
    "    return list1\n",
    "list1 = [5,3,1,77,21]\n",
    "ans = bubble_sort(list1)\n",
    "print(\"The sorted list is: \", ans)\n",
    "    "
   ]
  },
  {
   "cell_type": "markdown",
   "id": "35fe6731",
   "metadata": {},
   "source": [
    "### Program to print Pyramid"
   ]
  },
  {
   "cell_type": "code",
   "execution_count": 11,
   "id": "0a00cb9d",
   "metadata": {},
   "outputs": [
    {
     "name": "stdout",
     "output_type": "stream",
     "text": [
      "* \n",
      "\r\n",
      "** \n",
      "\r\n",
      "*** \n",
      "\r\n",
      "**** \n",
      "\r\n",
      "***** \n",
      "\r\n"
     ]
    }
   ],
   "source": [
    "def pattern(n):\n",
    "    for i in range(0, n):\n",
    "        for j in range(0, i+1):\n",
    "            print(\"*\", end=\"\")\n",
    "        print(\" \")\n",
    "        print(\"\\r\")\n",
    "n = 5\n",
    "pattern(n)"
   ]
  },
  {
   "cell_type": "markdown",
   "id": "b20c76c3",
   "metadata": {},
   "source": [
    "# number pyramid\n"
   ]
  },
  {
   "cell_type": "code",
   "execution_count": 7,
   "id": "785ff19e",
   "metadata": {},
   "outputs": [
    {
     "name": "stdout",
     "output_type": "stream",
     "text": [
      "1 \n",
      "12 \n",
      "123 \n",
      "1234 \n",
      "12345 \n",
      "123456 \n",
      "None\n"
     ]
    }
   ],
   "source": [
    "def pattern1(n):\n",
    "    num = 1\n",
    "    for i in range(0, n):\n",
    "        \n",
    "        num = 1\n",
    "        \n",
    "        for j in range(0, i + 1):\n",
    "            print(num, end=\"\")\n",
    "            num = num + 1\n",
    "        print(\" \")\n",
    "    \n",
    "        \n",
    "n = 6\n",
    "print(pattern1(n))"
   ]
  },
  {
   "cell_type": "markdown",
   "id": "b7febf1f",
   "metadata": {},
   "source": [
    "## Selection Sort\n"
   ]
  },
  {
   "cell_type": "code",
   "execution_count": 6,
   "id": "77880cc5",
   "metadata": {},
   "outputs": [
    {
     "name": "stdout",
     "output_type": "stream",
     "text": [
      "Sorted array\n",
      "11\n",
      "12\n",
      "22\n",
      "25\n",
      "64\n"
     ]
    }
   ],
   "source": [
    "import sys\n",
    "A = [64, 25, 12, 22, 11]\n",
    "  \n",
    "# Traverse through all array elements\n",
    "for i in range(len(A)):\n",
    "      \n",
    "    # Find the minimum element in remaining \n",
    "    # unsorted array\n",
    "    min_idx = i\n",
    "    for j in range(i+1, len(A)):\n",
    "        if A[min_idx] > A[j]:\n",
    "            min_idx = j\n",
    "              \n",
    "    # Swap the found minimum element with \n",
    "    # the first element        \n",
    "    A[i], A[min_idx] = A[min_idx], A[i]\n",
    "  \n",
    "# Driver code to test above\n",
    "print (\"Sorted array\")\n",
    "for i in range(len(A)):\n",
    "    print(\"%d\" %A[i]), "
   ]
  },
  {
   "cell_type": "code",
   "execution_count": 8,
   "id": "55fe274a",
   "metadata": {},
   "outputs": [
    {
     "name": "stdout",
     "output_type": "stream",
     "text": [
      "sorted array:\n",
      "11\n",
      "21\n",
      "23\n",
      "32\n",
      "45\n",
      "55\n",
      "111\n"
     ]
    }
   ],
   "source": [
    "a = [55,32,11,45,111,23,21]\n",
    "\n",
    "for i in range(len(a)):\n",
    "    min = i\n",
    "    \n",
    "    for j in range(i+1, len(a)):\n",
    "        if a[min] > a[j]:\n",
    "            min = j\n",
    "    a[i], a[min] = a[min], a[i]\n",
    "    \n",
    "print(\"sorted array:\")\n",
    "for i in range(len(a)):\n",
    "    print(a[i])"
   ]
  },
  {
   "cell_type": "markdown",
   "id": "302098a8",
   "metadata": {},
   "source": [
    "## 2. Leetcode : Remove zeroes:"
   ]
  },
  {
   "cell_type": "markdown",
   "id": "4c524519",
   "metadata": {},
   "source": [
    "Given an integer array nums, move all 0's to the end of it while maintaining the relative order of the non-zero elements.\n",
    "Note that you must do this in-place without making a copy of the array.\n",
    "# Example: \n",
    "Input: nums = [0,1,0,3,12]\n",
    "\n",
    "Output: [1,3,12,0,0]"
   ]
  },
  {
   "cell_type": "markdown",
   "id": "62082831",
   "metadata": {},
   "source": [
    "By swapping zeros:"
   ]
  },
  {
   "cell_type": "code",
   "execution_count": 3,
   "id": "b7a18ebf",
   "metadata": {},
   "outputs": [
    {
     "name": "stdout",
     "output_type": "stream",
     "text": [
      "[4, 6, 0]\n"
     ]
    }
   ],
   "source": [
    "def movezeroes(list1):\n",
    "    zero = 0 #to check the position of Zero\n",
    "    for i in range(len(list1)):\n",
    "        if list1[i] != 0:\n",
    "            list1[i], list1[zero] = list1[zero], list1[i]\n",
    "            zero += 1\n",
    "    return list1\n",
    "            \n",
    "list1 = [0,4,6]\n",
    "print(movezeroes(list1))"
   ]
  },
  {
   "cell_type": "code",
   "execution_count": 18,
   "id": "e1870093",
   "metadata": {},
   "outputs": [
    {
     "name": "stdout",
     "output_type": "stream",
     "text": [
      "Array after pushing all zeros to end of array:\n",
      "[1, 9, 8, 4, 2, 7, 6, 9, 0, 0, 0, 0]\n"
     ]
    }
   ],
   "source": [
    "def zerostoend(arr, n):\n",
    "    count = 0 \n",
    "    \n",
    "    for i in range(n):\n",
    "        if arr[i]!=0:                # 1, 3, 0, 5, 0 , 7       arr[count] = 1, 3, 5, 7 ,0, 0\n",
    "                arr[count] = arr[i]\n",
    "                count+=1\n",
    "    while count < n:\n",
    "        arr[count] = 0\n",
    "        count += 1\n",
    "        \n",
    "arr = [1, 9, 8, 4, 0, 0, 2, 7, 0, 6, 0, 9] \n",
    "n = len(arr) \n",
    "zerostoend(arr, n) \n",
    "print(\"Array after pushing all zeros to end of array:\") \n",
    "print(arr) "
   ]
  },
  {
   "cell_type": "markdown",
   "id": "472de970",
   "metadata": {},
   "source": [
    "# Problem: Remove duplicates from list"
   ]
  },
  {
   "cell_type": "code",
   "execution_count": 15,
   "id": "4e656103",
   "metadata": {},
   "outputs": [
    {
     "name": "stdout",
     "output_type": "stream",
     "text": [
      "1\n",
      "3\n",
      "3\n",
      "3\n",
      "4\n",
      "5\n",
      "7\n",
      "5\n",
      "[1, 3, 4, 5, 7]\n"
     ]
    }
   ],
   "source": [
    "l1 = [1,3,3,3,4,5,7,5]\n",
    "new_list=[]\n",
    "for i in l1:\n",
    "    print(i)\n",
    "    if i not in new_list:\n",
    "        new_list.append(i)\n",
    "print(new_list)"
   ]
  },
  {
   "cell_type": "markdown",
   "id": "de6a74d2",
   "metadata": {},
   "source": [
    "#  Leet code - Problem: Reverse Integer"
   ]
  },
  {
   "cell_type": "markdown",
   "id": "46085efe",
   "metadata": {},
   "source": [
    "Leetcode no7"
   ]
  },
  {
   "cell_type": "code",
   "execution_count": 16,
   "id": "03e682b9",
   "metadata": {},
   "outputs": [
    {
     "name": "stdout",
     "output_type": "stream",
     "text": [
      "4321\n"
     ]
    }
   ],
   "source": [
    "#revs_no = 0\n",
    "def rev_no(num):\n",
    "    revs_no = 0\n",
    "    while num > 0:\n",
    "        remainder = num % 10\n",
    "        revs_no = (revs_no * 10) + remainder\n",
    "        num = num//10\n",
    "    return revs_no\n",
    "num = 1234\n",
    "print(rev_no(num))"
   ]
  },
  {
   "cell_type": "code",
   "execution_count": 6,
   "id": "44b525ba",
   "metadata": {},
   "outputs": [
    {
     "name": "stdout",
     "output_type": "stream",
     "text": [
      "Reversed Number: 4321\n"
     ]
    }
   ],
   "source": [
    "num = 1234\n",
    "reversed_num = 0\n",
    "\n",
    "while num != 0:\n",
    "    digit = num % 10\n",
    "    reversed_num = reversed_num * 10 + digit\n",
    "    num //= 10\n",
    "\n",
    "print(\"Reversed Number: \" + str(reversed_num))"
   ]
  },
  {
   "cell_type": "markdown",
   "id": "9e97f698",
   "metadata": {},
   "source": [
    "# Sum of range of integers (Project Euler)"
   ]
  },
  {
   "cell_type": "code",
   "execution_count": 2,
   "id": "0072dd3f",
   "metadata": {},
   "outputs": [
    {
     "name": "stdout",
     "output_type": "stream",
     "text": [
      "28\n"
     ]
    }
   ],
   "source": [
    "def sumrange(n):\n",
    "    num = 1\n",
    "    sum = 0\n",
    "    while num <= n:\n",
    "        sum = num + sum\n",
    "        num += 1\n",
    "    return sum\n",
    "n = 7\n",
    "print(sumrange(n))"
   ]
  },
  {
   "cell_type": "markdown",
   "id": "e288b6b7",
   "metadata": {},
   "source": [
    "# Python program to implement linear search"
   ]
  },
  {
   "cell_type": "code",
   "execution_count": 1,
   "id": "9b7f5920",
   "metadata": {},
   "outputs": [
    {
     "name": "stdout",
     "output_type": "stream",
     "text": [
      "enter the no for which the index has to be found11\n",
      "No is present at index:  3\n"
     ]
    }
   ],
   "source": [
    "list1 = [3,4,5,11,21,2]\n",
    "\n",
    "flag = 0\n",
    "x = int(input(\"enter the no for which the index has to be found: \"))\n",
    "\n",
    "for i in range(len(list1)):\n",
    "    if(x==list1[i]):\n",
    "        print(\"No is present at index: \", i)\n",
    "        flag = 1\n",
    "        break\n",
    "if flag == 0:\n",
    "    print(\"Not found in the list\")"
   ]
  },
  {
   "cell_type": "markdown",
   "id": "b350fc6f",
   "metadata": {},
   "source": [
    "# Python program to delete an element from a list by index"
   ]
  },
  {
   "cell_type": "code",
   "execution_count": 2,
   "id": "b515e473",
   "metadata": {},
   "outputs": [
    {
     "name": "stdout",
     "output_type": "stream",
     "text": [
      "Enter the position of the number to be deleted 3\n",
      "After deleting: \n",
      "[5, 7, 21]\n"
     ]
    }
   ],
   "source": [
    "li1 = [5,7,21,33]\n",
    "x = int(input(\"Enter the position of the number to be deleted \"))\n",
    "li1.pop(x)\n",
    "print(\"After deleting: \")\n",
    "print(li1)"
   ]
  },
  {
   "cell_type": "markdown",
   "id": "f6fa1997",
   "metadata": {},
   "source": [
    "# Python program to insert a number to any position in a list\n"
   ]
  },
  {
   "cell_type": "code",
   "execution_count": 5,
   "id": "77d48b5c",
   "metadata": {},
   "outputs": [
    {
     "name": "stdout",
     "output_type": "stream",
     "text": [
      "enter a number to be inserted211\n",
      "Enter the position 1\n",
      "[3, 211, 7, 6, 21, 255]\n"
     ]
    }
   ],
   "source": [
    "li2 = [3,7,6,21,255]\n",
    "x = int(input(\"enter a number to be inserted \"))\n",
    "y = int(input(\"Enter the position \"))\n",
    "li2.insert(y,x)\n",
    "print(li2)"
   ]
  },
  {
   "cell_type": "markdown",
   "id": "32a5dbed",
   "metadata": {},
   "source": [
    "# Non LC - find largest no without using built in function"
   ]
  },
  {
   "cell_type": "code",
   "execution_count": 6,
   "id": "222d5272",
   "metadata": {},
   "outputs": [
    {
     "name": "stdout",
     "output_type": "stream",
     "text": [
      "Largest no is  41\n"
     ]
    }
   ],
   "source": [
    "li3 = [21,3,7,9,35,41,20]\n",
    "\n",
    "temp = 0\n",
    "for i in range(len(li3)):\n",
    "    if(li3[i] > temp):\n",
    "        temp = li3[i]          \n",
    "print(\"Largest no is \", temp)\n",
    "        "
   ]
  },
  {
   "cell_type": "markdown",
   "id": "d902a6de",
   "metadata": {},
   "source": [
    "# Leetcode - Blind 75 - Contains Duplicate"
   ]
  },
  {
   "cell_type": "markdown",
   "id": "5626d1ee",
   "metadata": {},
   "source": [
    "Given an integer array nums, return true if any value appears at least twice in the array, and return false if every element is distinct."
   ]
  },
  {
   "cell_type": "code",
   "execution_count": 15,
   "id": "b1e069af",
   "metadata": {},
   "outputs": [
    {
     "data": {
      "text/plain": [
       "True"
      ]
     },
     "execution_count": 15,
     "metadata": {},
     "output_type": "execute_result"
    }
   ],
   "source": [
    "def cd(list1):\n",
    "    list1.sort()\n",
    "    \n",
    "    for i in range(len(list1)-1):\n",
    "        if list1[i] == list1[i+1]:\n",
    "            return True\n",
    "    return False\n",
    "\n",
    "list1 = [1,2,2,3,4,4,5]\n",
    "cd(list1)"
   ]
  },
  {
   "cell_type": "markdown",
   "id": "3350861c",
   "metadata": {},
   "source": [
    "# Leetcode - Blind 75: Two Sum"
   ]
  },
  {
   "cell_type": "code",
   "execution_count": 9,
   "id": "da1872ed",
   "metadata": {},
   "outputs": [
    {
     "name": "stdout",
     "output_type": "stream",
     "text": [
      "0 2\n",
      "1 2\n"
     ]
    }
   ],
   "source": [
    "def twoSum(nums, target):\n",
    "       # nums.sort()         #2,3,4       targ = 6 \n",
    "        for i in range(len(nums)-1):\n",
    "            for j in range(i+1,len(nums)-1):\n",
    "                if nums[j] + nums[i] == target:\n",
    "                    print(i, j)\n",
    "nums = [5,5,3,1]\n",
    "target = 8\n",
    "twoSum(nums,target)"
   ]
  },
  {
   "cell_type": "markdown",
   "id": "a1e5f784",
   "metadata": {},
   "source": [
    "Accepted solution:"
   ]
  },
  {
   "cell_type": "code",
   "execution_count": 12,
   "id": "b5041938",
   "metadata": {},
   "outputs": [
    {
     "data": {
      "text/plain": [
       "[0, 3]"
      ]
     },
     "execution_count": 12,
     "metadata": {},
     "output_type": "execute_result"
    }
   ],
   "source": [
    "def twosums(num, target):\n",
    "    for i in range (len(num)):\n",
    "        value = target - num[i]\n",
    "        \n",
    "        if value in num:\n",
    "            ind = num.index(value)\n",
    "            if i!=ind:\n",
    "                return[i,ind]\n",
    "\n",
    "num = [3,1,2,4,1]\n",
    "target = 7\n",
    "twosums(num,target)"
   ]
  },
  {
   "cell_type": "markdown",
   "id": "fbd76113",
   "metadata": {},
   "source": [
    "# Leetcode - blind 75 - Best time to buy and sell stock"
   ]
  },
  {
   "cell_type": "markdown",
   "id": "27c71914",
   "metadata": {},
   "source": [
    "Input: prices = [7,1,5,3,6,4]\n",
    "Output: 5\n",
    "Explanation: Buy on day 2 (price = 1) and sell on day 5 (price = 6), profit = 6-1 = 5.\n",
    "Note that buying on day 2 and selling on day 1 is not allowed because you must buy before you sell."
   ]
  },
  {
   "cell_type": "code",
   "execution_count": 12,
   "id": "6d99299c",
   "metadata": {},
   "outputs": [
    {
     "data": {
      "text/plain": [
       "5"
      ]
     },
     "execution_count": 12,
     "metadata": {},
     "output_type": "execute_result"
    }
   ],
   "source": [
    "def stocks(prices):\n",
    "    max_profit = 0\n",
    "    for i in range(len(prices)-1):\n",
    "        for j in range(i+1, len(prices)):\n",
    "            profit = prices[j] - prices[i]\n",
    "            if profit > max_profit:\n",
    "                max_profit = profit\n",
    "    return max_profit\n",
    "prices = [7,1,5,3,6,4]\n",
    "stocks(prices)\n",
    "#Unacceptable as time complexity is O(N^2)"
   ]
  },
  {
   "cell_type": "markdown",
   "id": "c62c3f99",
   "metadata": {},
   "source": [
    "#### Same problem using Kadane's algorithm"
   ]
  },
  {
   "cell_type": "markdown",
   "id": "d3c55200",
   "metadata": {},
   "source": [
    "Kadane’s Algorithm is an iterative dynamic programming algorithm. It calculates the maximum sum subarray ending at a particular position by using the maximum sum subarray ending at the previous position. Follow the below steps to solve the problem."
   ]
  },
  {
   "cell_type": "code",
   "execution_count": 13,
   "id": "3118d334",
   "metadata": {},
   "outputs": [
    {
     "data": {
      "text/plain": [
       "5"
      ]
     },
     "execution_count": 13,
     "metadata": {},
     "output_type": "execute_result"
    }
   ],
   "source": [
    "def stonks(price1):\n",
    "    n = len(price1)\n",
    "    \n",
    "    if n <= 1:\n",
    "        return 0\n",
    "    \n",
    "    max_no = 0 \n",
    "    low_no = price1[0]\n",
    "    \n",
    "    for i in range(1, n):\n",
    "        low_no = min(low_no, price1[i])\n",
    "        max_no = max(max_no, price1[i] - low_no)\n",
    "    return max_no\n",
    "\n",
    "price1 = [7,1,5,3,6,4]\n",
    "stonks(price1)"
   ]
  },
  {
   "cell_type": "markdown",
   "id": "8fc2220a",
   "metadata": {},
   "source": [
    "# Leetcode  -  Valid palindrome"
   ]
  },
  {
   "cell_type": "code",
   "execution_count": 13,
   "id": "2d1a9b2a",
   "metadata": {},
   "outputs": [
    {
     "name": "stdout",
     "output_type": "stream",
     "text": [
      "True\n"
     ]
    },
    {
     "data": {
      "text/plain": [
       "False"
      ]
     },
     "execution_count": 13,
     "metadata": {},
     "output_type": "execute_result"
    }
   ],
   "source": [
    "def palval(s):\n",
    "    \n",
    "    pal = \"\"\n",
    "    s = s.lower()\n",
    "    \n",
    "    for i in s:\n",
    "        if i.isalnum():\n",
    "            pal = pal + i\n",
    "            \n",
    "    return pal==pal[::-1]\n",
    "s = \"race a car\"\n",
    "s1 = \"A man, a plan, a canal: Panama\"\n",
    "\n",
    "print(palval(s1))\n",
    "palval(s)"
   ]
  },
  {
   "cell_type": "markdown",
   "id": "661aec99",
   "metadata": {},
   "source": [
    "# Python program to implement matrix addition & multiplication"
   ]
  },
  {
   "cell_type": "code",
   "execution_count": 10,
   "id": "4c726931",
   "metadata": {},
   "outputs": [
    {
     "name": "stdout",
     "output_type": "stream",
     "text": [
      "[3, 7, 11]\n",
      "[5, 7, 8]\n",
      "[8, 6, 8]\n",
      "==================\n",
      "[2, 12, 30]\n",
      "[6, 12, 15]\n",
      "[7, 5, 7]\n"
     ]
    }
   ],
   "source": [
    "x = [[1,3,5],[2,4,5],[7,5,7]]\n",
    "y = [[2,4,6],[3,3,3],[1,1,1]]\n",
    "res = [[0,0,0],[0,0,0],[0,0,0]]\n",
    "res1 = [[0,0,0],[0,0,0],[0,0,0]]\n",
    "for i in range(len(x)):\n",
    "    for j in range(len(x[0])):\n",
    "                   res[i][j] = x[i][j] + y[i][j]\n",
    "            \n",
    "for i in range(len(x)):\n",
    "    for j in range(len(y[0])):\n",
    "        res1[i][j] = x[i][j] * y[i][j]\n",
    "        \n",
    "for k in res:\n",
    "        print(k)\n",
    "print(\"==================\")\n",
    "for l in res1:\n",
    "    print(l)"
   ]
  },
  {
   "cell_type": "markdown",
   "id": "3b824b5a",
   "metadata": {},
   "source": [
    "# Program to reverse a string"
   ]
  },
  {
   "cell_type": "code",
   "execution_count": 1,
   "id": "78090033",
   "metadata": {},
   "outputs": [
    {
     "name": "stdout",
     "output_type": "stream",
     "text": [
      "s\n",
      "as\n",
      "ias\n"
     ]
    },
    {
     "data": {
      "text/plain": [
       "'ias'"
      ]
     },
     "execution_count": 1,
     "metadata": {},
     "output_type": "execute_result"
    }
   ],
   "source": [
    "def rev_string1(s):\n",
    "    str = \"\"\n",
    "    for i in s:\n",
    "        str = i + str\n",
    "        print(str)\n",
    "    return str\n",
    "s = \"sai\"\n",
    "rev_string1(s)"
   ]
  },
  {
   "cell_type": "code",
   "execution_count": 4,
   "id": "8b133cc5",
   "metadata": {},
   "outputs": [
    {
     "data": {
      "text/plain": [
       "'ias'"
      ]
     },
     "execution_count": 4,
     "metadata": {},
     "output_type": "execute_result"
    }
   ],
   "source": [
    "#alternate\n",
    "\n",
    "str = \"sai\"\n",
    "str = str[::-1]\n",
    "str"
   ]
  },
  {
   "cell_type": "code",
   "execution_count": 1,
   "id": "a8996828",
   "metadata": {},
   "outputs": [],
   "source": [
    "# Leet code problems to be done above, for past 2 days"
   ]
  },
  {
   "cell_type": "markdown",
   "id": "37d67f74",
   "metadata": {},
   "source": [
    "# Fibonacci using for loop"
   ]
  },
  {
   "cell_type": "code",
   "execution_count": 2,
   "id": "6ad0f4eb",
   "metadata": {},
   "outputs": [
    {
     "name": "stdout",
     "output_type": "stream",
     "text": [
      "0\n",
      "1\n",
      "1\n",
      "2\n",
      "3\n",
      "5\n",
      "8\n",
      "13\n",
      "21\n",
      "34\n"
     ]
    }
   ],
   "source": [
    "def fib(n):\n",
    "    a = 0\n",
    "    b = 1\n",
    "    if n > 1:\n",
    "        print(a)\n",
    "        print(b)\n",
    "        for i in range(2, n):\n",
    "            c = a + b\n",
    "            a = b\n",
    "            b = c\n",
    "            print(c)\n",
    "fib(10)"
   ]
  },
  {
   "cell_type": "markdown",
   "id": "6b0a8b47",
   "metadata": {},
   "source": [
    "# Python program to copy all elements of one array into another array"
   ]
  },
  {
   "cell_type": "code",
   "execution_count": 8,
   "id": "a8872cbe",
   "metadata": {},
   "outputs": [
    {
     "ename": "IndexError",
     "evalue": "list assignment index out of range",
     "output_type": "error",
     "traceback": [
      "\u001b[1;31m---------------------------------------------------------------------------\u001b[0m",
      "\u001b[1;31mIndexError\u001b[0m                                Traceback (most recent call last)",
      "\u001b[1;32m~\\AppData\\Local\\Temp/ipykernel_16660/3548805100.py\u001b[0m in \u001b[0;36m<module>\u001b[1;34m\u001b[0m\n\u001b[0;32m      4\u001b[0m \u001b[1;33m\u001b[0m\u001b[0m\n\u001b[0;32m      5\u001b[0m \u001b[1;32mfor\u001b[0m \u001b[0mi\u001b[0m \u001b[1;32min\u001b[0m \u001b[0mrange\u001b[0m\u001b[1;33m(\u001b[0m\u001b[1;36m0\u001b[0m\u001b[1;33m,\u001b[0m \u001b[0mlen\u001b[0m\u001b[1;33m(\u001b[0m\u001b[0marr1\u001b[0m\u001b[1;33m)\u001b[0m\u001b[1;33m)\u001b[0m\u001b[1;33m:\u001b[0m\u001b[1;33m\u001b[0m\u001b[1;33m\u001b[0m\u001b[0m\n\u001b[1;32m----> 6\u001b[1;33m     \u001b[0marr2\u001b[0m\u001b[1;33m[\u001b[0m\u001b[0mi\u001b[0m\u001b[1;33m]\u001b[0m \u001b[1;33m=\u001b[0m \u001b[0marr1\u001b[0m\u001b[1;33m[\u001b[0m\u001b[0mi\u001b[0m\u001b[1;33m]\u001b[0m\u001b[1;33m\u001b[0m\u001b[1;33m\u001b[0m\u001b[0m\n\u001b[0m",
      "\u001b[1;31mIndexError\u001b[0m: list assignment index out of range"
     ]
    }
   ],
   "source": [
    "arr1 = [3,4,10,21,4]\n",
    "\n",
    "arr2 = [] * len(arr1)\n",
    "\n",
    "for i in range(0, len(arr1)):\n",
    "    arr2[i] = arr1[i]\n"
   ]
  },
  {
   "cell_type": "code",
   "execution_count": 4,
   "id": "cb1d8f66",
   "metadata": {},
   "outputs": [
    {
     "name": "stdout",
     "output_type": "stream",
     "text": [
      "1\n",
      "2\n",
      "7\n"
     ]
    }
   ],
   "source": [
    "a = [1,2,7]\n",
    "for i in a:\n",
    "    print(i)\n",
    "    "
   ]
  },
  {
   "cell_type": "markdown",
   "id": "bc709702",
   "metadata": {},
   "source": [
    "# Program to find if number is  armstrong number"
   ]
  },
  {
   "cell_type": "code",
   "execution_count": 5,
   "id": "1799fbd1",
   "metadata": {},
   "outputs": [
    {
     "name": "stdout",
     "output_type": "stream",
     "text": [
      "Enter a number407\n",
      "7\n",
      "0\n",
      "4\n",
      "407 is an armstrong number and sum is  407\n"
     ]
    }
   ],
   "source": [
    "num = int(input(\"Enter a number\"))\n",
    "\n",
    "sum = 0\n",
    "temp = num \n",
    "while temp > 0:\n",
    "    digit = temp%10\n",
    "    print(digit)\n",
    "    sum+= digit**3\n",
    "    temp//=10\n",
    "    \n",
    "if num == sum:\n",
    "    print(num, \"is an armstrong number and sum is \", sum)\n",
    "else:\n",
    "    print(num, \"Not an armstrong number\", sum)\n"
   ]
  },
  {
   "cell_type": "markdown",
   "id": "bdd5ecb0",
   "metadata": {},
   "source": [
    "# Single number - Leetcode: "
   ]
  },
  {
   "cell_type": "markdown",
   "id": "a2a4b1f9",
   "metadata": {},
   "source": [
    "Given a non-empty array of integers nums, every element appears twice except for one. Find that single one."
   ]
  },
  {
   "cell_type": "code",
   "execution_count": 3,
   "id": "e0a07d20",
   "metadata": {},
   "outputs": [
    {
     "name": "stdout",
     "output_type": "stream",
     "text": [
      "7\n"
     ]
    }
   ],
   "source": [
    "nums = [5,5,5,3,3,2,2,7,9,9,9]\n",
    "\n",
    "dic = {}\n",
    "\n",
    "for num in nums:\n",
    "    dic[num] = dic.get(num, 0)+1\n",
    "    \n",
    "for key, val in dic.items():\n",
    "    if val == 1:\n",
    "        print(key)      # Returns the only single element from the array.\n",
    "        \n"
   ]
  },
  {
   "cell_type": "markdown",
   "id": "eacbbfe5",
   "metadata": {},
   "source": [
    "# Program to print even length words in a string"
   ]
  },
  {
   "cell_type": "code",
   "execution_count": 3,
   "id": "2f0723af",
   "metadata": {},
   "outputs": [],
   "source": [
    "def string1(s):\n",
    "    s.split(' ')\n",
    "    \n",
    "    for words in s:\n",
    "        if len(words)%2==0:\n",
    "            print(words)\n",
    "            \n",
    "s = \"hello cars this is okay\"\n",
    "string1(s)"
   ]
  },
  {
   "cell_type": "markdown",
   "id": "7e04c1ca",
   "metadata": {},
   "source": [
    "# Program to find cube of first n natural numbers"
   ]
  },
  {
   "cell_type": "code",
   "execution_count": 2,
   "id": "030fb1a4",
   "metadata": {},
   "outputs": [
    {
     "data": {
      "text/plain": [
       "36"
      ]
     },
     "execution_count": 2,
     "metadata": {},
     "output_type": "execute_result"
    }
   ],
   "source": [
    "def cuben(n):\n",
    "    sum = 0\n",
    "    \n",
    "    for i in range(0, n+1):\n",
    "        sum += i*i*i\n",
    "    return sum\n",
    "n = 3\n",
    "cuben(n)\n",
    "        \n",
    "        "
   ]
  },
  {
   "cell_type": "markdown",
   "id": "c9c1a357",
   "metadata": {},
   "source": [
    "# To find second largest no in list"
   ]
  },
  {
   "cell_type": "code",
   "execution_count": null,
   "id": "5d40e949",
   "metadata": {},
   "outputs": [],
   "source": [
    "arr = [4,2,6,9]\n",
    "secondlargest = arr[0]\n",
    "largest = arr[0]\n",
    "\n",
    "for i in range(len(arr)):\n",
    "    if arr[i] > largest:\n",
    "        largest = arr[i]\n",
    "        \n",
    "for i in range(len(arr)):\n",
    "    if arr[i] > secondlargest and arr[i]! = largest:\n",
    "        secondlargest = arr[i]\n",
    "        "
   ]
  },
  {
   "cell_type": "markdown",
   "id": "78e1a0d5",
   "metadata": {},
   "source": [
    "# Least frequent character in string"
   ]
  },
  {
   "cell_type": "code",
   "execution_count": 4,
   "id": "0f56394f",
   "metadata": {},
   "outputs": [
    {
     "name": "stdout",
     "output_type": "stream",
     "text": [
      "Least char is  k\n"
     ]
    }
   ],
   "source": [
    "string = \"kayhaveanicedayzed\"\n",
    "\n",
    "dic = {}\n",
    "\n",
    "for i in string:\n",
    "    if i in dic:\n",
    "        dic[i] = dic[i] + 1\n",
    "    else:\n",
    "        dic[i] = 1\n",
    "result = min(dic, key = dic.get)\n",
    "print(\"Least char is \", result)"
   ]
  },
  {
   "cell_type": "code",
   "execution_count": 8,
   "id": "aed4410d",
   "metadata": {},
   "outputs": [
    {
     "name": "stdout",
     "output_type": "stream",
     "text": [
      "The original string is : GeekszorGeeks\n",
      "The minimum of all characters in GeeksforGeeks is : z\n"
     ]
    }
   ],
   "source": [
    "test_str = \"GeekszorGeeks\"\n",
    "  \n",
    "# printing original string\n",
    "print (\"The original string is : \" + test_str)\n",
    "  \n",
    "# using naive method to get\n",
    "# Least Frequent Character in String\n",
    "all_freq = {}\n",
    "for i in test_str:\n",
    "    if i in all_freq:\n",
    "        all_freq[i] += 1\n",
    "    else:\n",
    "        all_freq[i] = 1\n",
    "res = min(all_freq, key = all_freq.get) \n",
    "print (\"The minimum of all characters in GeeksforGeeks is : \" + str(res))"
   ]
  },
  {
   "cell_type": "markdown",
   "id": "05363e32",
   "metadata": {},
   "source": [
    "# Divisble by 3"
   ]
  },
  {
   "cell_type": "code",
   "execution_count": 1,
   "id": "207e7eae",
   "metadata": {},
   "outputs": [
    {
     "name": "stdout",
     "output_type": "stream",
     "text": [
      "divisible\n"
     ]
    }
   ],
   "source": [
    "n = 9\n",
    "if(n%3==0):\n",
    "    print(\"divisible\")\n",
    "else:\n",
    "    print(\"No\")"
   ]
  },
  {
   "cell_type": "markdown",
   "id": "65068f40",
   "metadata": {},
   "source": [
    "# Leetcode convert 1D to 2D array"
   ]
  },
  {
   "cell_type": "code",
   "execution_count": 41,
   "id": "d2bfc8a8",
   "metadata": {},
   "outputs": [
    {
     "name": "stdout",
     "output_type": "stream",
     "text": [
      "Iteration:  0 2 0\n",
      "1\n",
      "Iteration:  0 2 1\n",
      "2\n",
      "Iteration:  1 2 0\n",
      "3\n",
      "Iteration:  1 2 1\n",
      "4\n",
      "[[1, 2], [3, 4]]\n"
     ]
    }
   ],
   "source": [
    "ans = []\n",
    "original = [1,2,3,4]\n",
    "m = 2\n",
    "n = 2\n",
    "\n",
    "if len(original) == m * n:\n",
    "    for row in range(m):\n",
    "        ans.append([])\n",
    "        for col in range(n):\n",
    "            print(\"Iteration: \",row, n , col)\n",
    "            print(original[row*n+col])\n",
    "            ans[-1].append(original[row*n+col])\n",
    "\n",
    "#             ans[-1].append(original[row*col])\n",
    "print(ans)"
   ]
  },
  {
   "cell_type": "code",
   "execution_count": 12,
   "id": "bf383728",
   "metadata": {},
   "outputs": [
    {
     "data": {
      "text/plain": [
       "3"
      ]
     },
     "execution_count": 12,
     "metadata": {},
     "output_type": "execute_result"
    }
   ],
   "source": [
    "a=[1,2,3]\n",
    "a[-1]"
   ]
  },
  {
   "cell_type": "markdown",
   "id": "d9a00280",
   "metadata": {},
   "source": [
    "# Print the occurence of characters in string"
   ]
  },
  {
   "cell_type": "code",
   "execution_count": 6,
   "id": "3a72cad9",
   "metadata": {},
   "outputs": [
    {
     "name": "stdout",
     "output_type": "stream",
     "text": [
      "g\n",
      "{'g': 1}\n",
      "o\n",
      "{'g': 1, 'o': 1}\n",
      "o\n",
      "{'g': 1, 'o': 2}\n",
      "g\n",
      "{'g': 2, 'o': 2}\n",
      "l\n",
      "{'g': 2, 'o': 2, 'l': 1}\n",
      "e\n",
      "{'g': 2, 'o': 2, 'l': 1, 'e': 1}\n"
     ]
    }
   ],
   "source": [
    "str = \"google\"\n",
    "dic={}\n",
    "\n",
    "for n in str:\n",
    "    keys = dic.keys()\n",
    "    print(n)\n",
    "    if n in keys:\n",
    "        dic[n] += 1\n",
    "    else:\n",
    "        dic[n] = 1\n",
    "    print(dic)"
   ]
  },
  {
   "cell_type": "markdown",
   "id": "0697704a",
   "metadata": {},
   "source": [
    "# Arrange string characters such that lowercase letters should come first"
   ]
  },
  {
   "cell_type": "code",
   "execution_count": 4,
   "id": "51ea7ab8",
   "metadata": {},
   "outputs": [
    {
     "name": "stdout",
     "output_type": "stream",
     "text": [
      "Initial string:  SAIshiyam\n",
      "Arranged string: shiyamSAI\n"
     ]
    }
   ],
   "source": [
    "str = \"SAIshiyam\"\n",
    "print(\"Initial string: \", str)\n",
    "lower = [] \n",
    "upper = [] \n",
    "\n",
    "for i in str:\n",
    "    if i.islower():\n",
    "        lower.append(i)\n",
    "    else:\n",
    "        upper.append(i)\n",
    "        \n",
    "Corrected_string = ''.join(lower+upper)\n",
    "print(\"Arranged string: \", end=\"\")\n",
    "print(Corrected_string)\n"
   ]
  },
  {
   "cell_type": "code",
   "execution_count": 6,
   "id": "50128de3",
   "metadata": {
    "scrolled": true
   },
   "outputs": [
    {
     "name": "stdout",
     "output_type": "stream",
     "text": [
      "Enter a no27\n",
      "yes\n"
     ]
    }
   ],
   "source": [
    "# Divisible by 3 and 9\n",
    "\n",
    "n = int(input(\"Enter a no\"))\n",
    "\n",
    "if(n%3==0 and n%9==0):\n",
    "    print(\"yes\")\n",
    "else:\n",
    "    print(\"NO\")"
   ]
  },
  {
   "cell_type": "markdown",
   "id": "380795be",
   "metadata": {},
   "source": [
    "# Program to print patterns"
   ]
  },
  {
   "cell_type": "code",
   "execution_count": 25,
   "id": "556a0706",
   "metadata": {},
   "outputs": [
    {
     "name": "stdout",
     "output_type": "stream",
     "text": [
      "\n",
      "1 \n",
      "2 2 \n",
      "3 3 3 \n",
      "4 4 4 4 \n",
      "5 5 5 5 5 \n"
     ]
    }
   ],
   "source": [
    "rows = 6\n",
    "\n",
    "for i in range(rows):\n",
    "    for j in range(i):\n",
    "        print(i, end=' ')\n",
    "    print('')\n"
   ]
  },
  {
   "cell_type": "code",
   "execution_count": 29,
   "id": "25562dd0",
   "metadata": {},
   "outputs": [
    {
     "name": "stdout",
     "output_type": "stream",
     "text": [
      "1 \n",
      "1 2 \n",
      "1 2 3 \n",
      "1 2 3 4 \n",
      "1 2 3 4 5 \n",
      "1 2 3 4 5 6 \n"
     ]
    }
   ],
   "source": [
    "rows = 6 \n",
    "\n",
    "for i in range(1,rows+1):\n",
    "    for j in range(1,i+1):\n",
    "        print(j, end=' ')\n",
    "    print()"
   ]
  },
  {
   "cell_type": "code",
   "execution_count": 30,
   "id": "a60dccdd",
   "metadata": {},
   "outputs": [
    {
     "name": "stdout",
     "output_type": "stream",
     "text": [
      "*\n",
      "**\n",
      "***\n",
      "****\n",
      "*****\n"
     ]
    }
   ],
   "source": [
    "n = 5\n",
    "\n",
    "for i in range(0, n):\n",
    "    for j in range(0, i+1):\n",
    "        print(\"*\", end='')\n",
    "    print()"
   ]
  },
  {
   "cell_type": "code",
   "execution_count": null,
   "id": "c370b104",
   "metadata": {},
   "outputs": [],
   "source": []
  }
 ],
 "metadata": {
  "kernelspec": {
   "display_name": "Python 3 (ipykernel)",
   "language": "python",
   "name": "python3"
  },
  "language_info": {
   "codemirror_mode": {
    "name": "ipython",
    "version": 3
   },
   "file_extension": ".py",
   "mimetype": "text/x-python",
   "name": "python",
   "nbconvert_exporter": "python",
   "pygments_lexer": "ipython3",
   "version": "3.9.7"
  }
 },
 "nbformat": 4,
 "nbformat_minor": 5
}
